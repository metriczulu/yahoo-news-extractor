{
 "cells": [
  {
   "cell_type": "markdown",
   "metadata": {},
   "source": [
    "# Scraped YahooNews Data Cleaning"
   ]
  },
  {
   "cell_type": "code",
   "execution_count": 1,
   "metadata": {},
   "outputs": [],
   "source": [
    "import pandas as pd\n",
    "import numpy as np\n",
    "import matplotlib.pyplot as plt\n",
    "import unicodedata\n",
    "\n",
    "df = pd.read_csv(\"News.csv\")\n",
    "df = df[df.url.isna()==False]"
   ]
  },
  {
   "cell_type": "code",
   "execution_count": 2,
   "metadata": {},
   "outputs": [
    {
     "data": {
      "text/html": [
       "<div>\n",
       "<style scoped>\n",
       "    .dataframe tbody tr th:only-of-type {\n",
       "        vertical-align: middle;\n",
       "    }\n",
       "\n",
       "    .dataframe tbody tr th {\n",
       "        vertical-align: top;\n",
       "    }\n",
       "\n",
       "    .dataframe thead th {\n",
       "        text-align: right;\n",
       "    }\n",
       "</style>\n",
       "<table border=\"1\" class=\"dataframe\">\n",
       "  <thead>\n",
       "    <tr style=\"text-align: right;\">\n",
       "      <th></th>\n",
       "      <th>title</th>\n",
       "      <th>authors</th>\n",
       "      <th>datetime</th>\n",
       "      <th>text</th>\n",
       "      <th>summary</th>\n",
       "      <th>keywords</th>\n",
       "      <th>url</th>\n",
       "      <th>Unnamed: 7</th>\n",
       "      <th>Unnamed: 8</th>\n",
       "      <th>Unnamed: 9</th>\n",
       "    </tr>\n",
       "  </thead>\n",
       "  <tbody>\n",
       "    <tr>\n",
       "      <th>0</th>\n",
       "      <td>Meghan McCain Admits She 'Underestimated' Pelo...</td>\n",
       "      <td>Amy Russo</td>\n",
       "      <td>1/28/2019 12:19</td>\n",
       "      <td>Meghan McCain on Sunday admitted she misjudged...</td>\n",
       "      <td>NaN</td>\n",
       "      <td>NaN</td>\n",
       "      <td>https://web.archive.org/web/20190128153622/htt...</td>\n",
       "      <td>NaN</td>\n",
       "      <td>NaN</td>\n",
       "      <td>NaN</td>\n",
       "    </tr>\n",
       "    <tr>\n",
       "      <th>1</th>\n",
       "      <td>Antigovernment protesters clash with police in...</td>\n",
       "      <td>Yahoo News Photo Staff</td>\n",
       "      <td>11/24/2018 23:09</td>\n",
       "      <td>Antigovernment protesters clashed with French ...</td>\n",
       "      <td>NaN</td>\n",
       "      <td>NaN</td>\n",
       "      <td>https://web.archive.org/web/20190125211036/htt...</td>\n",
       "      <td>NaN</td>\n",
       "      <td>NaN</td>\n",
       "      <td>NaN</td>\n",
       "    </tr>\n",
       "    <tr>\n",
       "      <th>2</th>\n",
       "      <td>77th anniversary of the Pearl Harbor attack</td>\n",
       "      <td>Yahoo News Photo Staff</td>\n",
       "      <td>12/7/2018 18:15</td>\n",
       "      <td>On the morning of Dec. 7, 1941, a Sunday, Japa...</td>\n",
       "      <td>NaN</td>\n",
       "      <td>NaN</td>\n",
       "      <td>https://web.archive.org/web/20190131010817/htt...</td>\n",
       "      <td>NaN</td>\n",
       "      <td>NaN</td>\n",
       "      <td>NaN</td>\n",
       "    </tr>\n",
       "    <tr>\n",
       "      <th>3</th>\n",
       "      <td>Deadly shooting spree</td>\n",
       "      <td>NaN</td>\n",
       "      <td>1/7/2019 21:04</td>\n",
       "      <td>Family of five killed in head on crash as they...</td>\n",
       "      <td>NaN</td>\n",
       "      <td>NaN</td>\n",
       "      <td>https://web.archive.org/web/20190107233559/htt...</td>\n",
       "      <td>NaN</td>\n",
       "      <td>NaN</td>\n",
       "      <td>NaN</td>\n",
       "    </tr>\n",
       "    <tr>\n",
       "      <th>4</th>\n",
       "      <td>No Sleeves, No Bible, No Problem: This Is How ...</td>\n",
       "      <td>Natalie Gontcharova</td>\n",
       "      <td>1/4/2019 20:26</td>\n",
       "      <td>It was quite a Moment when the anti-LGBTQ+ Mik...</td>\n",
       "      <td>NaN</td>\n",
       "      <td>NaN</td>\n",
       "      <td>https://web.archive.org/web/20190104231044/htt...</td>\n",
       "      <td>NaN</td>\n",
       "      <td>NaN</td>\n",
       "      <td>NaN</td>\n",
       "    </tr>\n",
       "  </tbody>\n",
       "</table>\n",
       "</div>"
      ],
      "text/plain": [
       "                                               title                 authors  \\\n",
       "0  Meghan McCain Admits She 'Underestimated' Pelo...               Amy Russo   \n",
       "1  Antigovernment protesters clash with police in...  Yahoo News Photo Staff   \n",
       "2        77th anniversary of the Pearl Harbor attack  Yahoo News Photo Staff   \n",
       "3                              Deadly shooting spree                     NaN   \n",
       "4  No Sleeves, No Bible, No Problem: This Is How ...     Natalie Gontcharova   \n",
       "\n",
       "           datetime                                               text  \\\n",
       "0   1/28/2019 12:19  Meghan McCain on Sunday admitted she misjudged...   \n",
       "1  11/24/2018 23:09  Antigovernment protesters clashed with French ...   \n",
       "2   12/7/2018 18:15  On the morning of Dec. 7, 1941, a Sunday, Japa...   \n",
       "3    1/7/2019 21:04  Family of five killed in head on crash as they...   \n",
       "4    1/4/2019 20:26  It was quite a Moment when the anti-LGBTQ+ Mik...   \n",
       "\n",
       "  summary keywords                                                url  \\\n",
       "0     NaN      NaN  https://web.archive.org/web/20190128153622/htt...   \n",
       "1     NaN      NaN  https://web.archive.org/web/20190125211036/htt...   \n",
       "2     NaN      NaN  https://web.archive.org/web/20190131010817/htt...   \n",
       "3     NaN      NaN  https://web.archive.org/web/20190107233559/htt...   \n",
       "4     NaN      NaN  https://web.archive.org/web/20190104231044/htt...   \n",
       "\n",
       "  Unnamed: 7 Unnamed: 8 Unnamed: 9  \n",
       "0        NaN        NaN        NaN  \n",
       "1        NaN        NaN        NaN  \n",
       "2        NaN        NaN        NaN  \n",
       "3        NaN        NaN        NaN  \n",
       "4        NaN        NaN        NaN  "
      ]
     },
     "execution_count": 2,
     "metadata": {},
     "output_type": "execute_result"
    }
   ],
   "source": [
    "df.head()"
   ]
  },
  {
   "cell_type": "code",
   "execution_count": 3,
   "metadata": {},
   "outputs": [
    {
     "name": "stdout",
     "output_type": "stream",
     "text": [
      "There are 2 non-missing 'summary' rows and 2 non-missing 'keywords' rows\n"
     ]
    }
   ],
   "source": [
    "print(f\"There are {len(df)-df.summary.isna().sum()} non-missing 'summary' rows\"+\n",
    "      f\" and {len(df)-df.keywords.isna().sum()} non-missing 'keywords' rows\")"
   ]
  },
  {
   "cell_type": "code",
   "execution_count": 4,
   "metadata": {},
   "outputs": [
    {
     "data": {
      "text/html": [
       "<div>\n",
       "<style scoped>\n",
       "    .dataframe tbody tr th:only-of-type {\n",
       "        vertical-align: middle;\n",
       "    }\n",
       "\n",
       "    .dataframe tbody tr th {\n",
       "        vertical-align: top;\n",
       "    }\n",
       "\n",
       "    .dataframe thead th {\n",
       "        text-align: right;\n",
       "    }\n",
       "</style>\n",
       "<table border=\"1\" class=\"dataframe\">\n",
       "  <thead>\n",
       "    <tr style=\"text-align: right;\">\n",
       "      <th></th>\n",
       "      <th>title</th>\n",
       "      <th>authors</th>\n",
       "      <th>datetime</th>\n",
       "      <th>text</th>\n",
       "      <th>summary</th>\n",
       "      <th>keywords</th>\n",
       "      <th>url</th>\n",
       "      <th>Unnamed: 7</th>\n",
       "      <th>Unnamed: 8</th>\n",
       "      <th>Unnamed: 9</th>\n",
       "    </tr>\n",
       "  </thead>\n",
       "  <tbody>\n",
       "    <tr>\n",
       "      <th>3037</th>\n",
       "      <td>2) Any U.S. federal</td>\n",
       "      <td>state</td>\n",
       "      <td>or local domestic government discussing</td>\n",
       "      <td>offering</td>\n",
       "      <td>or providing</td>\n",
       "      <td>or being solicited to discuss</td>\n",
       "      <td>offer</td>\n",
       "      <td>or provide</td>\n",
       "      <td>any emolument on or after November 8</td>\n",
       "      <td>2016 to (a) Donald Trump or his Business Inte...</td>\n",
       "    </tr>\n",
       "    <tr>\n",
       "      <th>3045</th>\n",
       "      <td>1) Any personal or work diary</td>\n",
       "      <td>journal</td>\n",
       "      <td>or other book containing notes</td>\n",
       "      <td>a record or a description of daily events rel...</td>\n",
       "      <td>(b) the Trump Campaign</td>\n",
       "      <td>(c) the Executive Office of the President</td>\n",
       "      <td>or (d) the Trump Organization from June 2015 ...</td>\n",
       "      <td>NaN</td>\n",
       "      <td>NaN</td>\n",
       "      <td>NaN</td>\n",
       "    </tr>\n",
       "  </tbody>\n",
       "</table>\n",
       "</div>"
      ],
      "text/plain": [
       "                              title   authors  \\\n",
       "3037            2) Any U.S. federal     state   \n",
       "3045  1) Any personal or work diary   journal   \n",
       "\n",
       "                                      datetime  \\\n",
       "3037   or local domestic government discussing   \n",
       "3045            or other book containing notes   \n",
       "\n",
       "                                                   text  \\\n",
       "3037                                           offering   \n",
       "3045   a record or a description of daily events rel...   \n",
       "\n",
       "                      summary                                    keywords  \\\n",
       "3037             or providing               or being solicited to discuss   \n",
       "3045   (b) the Trump Campaign   (c) the Executive Office of the President   \n",
       "\n",
       "                                                    url   Unnamed: 7  \\\n",
       "3037                                              offer   or provide   \n",
       "3045   or (d) the Trump Organization from June 2015 ...          NaN   \n",
       "\n",
       "                                 Unnamed: 8  \\\n",
       "3037   any emolument on or after November 8   \n",
       "3045                                    NaN   \n",
       "\n",
       "                                             Unnamed: 9  \n",
       "3037   2016 to (a) Donald Trump or his Business Inte...  \n",
       "3045                                                NaN  "
      ]
     },
     "execution_count": 4,
     "metadata": {},
     "output_type": "execute_result"
    }
   ],
   "source": [
    "df[df.keywords.isna()==False]"
   ]
  },
  {
   "cell_type": "code",
   "execution_count": 5,
   "metadata": {},
   "outputs": [
    {
     "name": "stdout",
     "output_type": "stream",
     "text": [
      "There are 0 non-missing 'summary' rows and 0 non-missing 'keywords' rows\n"
     ]
    }
   ],
   "source": [
    "df = df[df.keywords.isna()]\n",
    "\n",
    "print(f\"There are {len(df)-df.summary.isna().sum()} non-missing 'summary' rows\"+\n",
    "      f\" and {len(df)-df.keywords.isna().sum()} non-missing 'keywords' rows\")"
   ]
  },
  {
   "cell_type": "code",
   "execution_count": 6,
   "metadata": {},
   "outputs": [],
   "source": [
    "df = df.drop(['Unnamed: 7', 'Unnamed: 8', 'Unnamed: 9', 'keywords', 'summary'], axis=1)"
   ]
  },
  {
   "cell_type": "code",
   "execution_count": 7,
   "metadata": {},
   "outputs": [],
   "source": [
    "import re\n",
    "\n",
    "def process_text(s):\n",
    "    r = re.compile(r'\\W+')\n",
    "    new_s = r.sub(' ', str(s).replace(\"''\", \"\").replace(\".\",\"\"))\n",
    "    new_s = \" \".join([_ for _ in new_s.split() if len(_)>1])\n",
    "    if new_s!=\"nan\": return new_s.lower()\n",
    "    else: return \"\""
   ]
  },
  {
   "cell_type": "code",
   "execution_count": 8,
   "metadata": {},
   "outputs": [],
   "source": [
    "df.text = df.text.apply(process_text)\n",
    "df.title = df.title.apply(process_text)"
   ]
  },
  {
   "cell_type": "code",
   "execution_count": 9,
   "metadata": {},
   "outputs": [],
   "source": [
    "def process_url(url):\n",
    "    date = re.search('http[s]://web.archive.org/web/(\\d+)/http', str(url)).group(1)\n",
    "    title = re.search('http[s]://news.yahoo.com/(.*?).html', str(url)).group(1)\n",
    "    uid = title.split(\"-\")[-1]\n",
    "    title = \" \".join(title.split(\"-\")[:-1])\n",
    "    return [date[:4], date[4:6], date[6:8], uid, title]"
   ]
  },
  {
   "cell_type": "code",
   "execution_count": 10,
   "metadata": {},
   "outputs": [],
   "source": [
    "def test_func(x, func):\n",
    "    try:\n",
    "        func(x)\n",
    "        return 1\n",
    "    except:\n",
    "        return 0"
   ]
  },
  {
   "cell_type": "code",
   "execution_count": 11,
   "metadata": {},
   "outputs": [
    {
     "name": "stdout",
     "output_type": "stream",
     "text": [
      "There are 0 rows with messed up URLs\n"
     ]
    }
   ],
   "source": [
    "test = df.url.apply(lambda x: test_func(x, process_url))\n",
    "print(f\"There are {len(df) - test.sum()} rows with messed up URLs\")"
   ]
  },
  {
   "cell_type": "code",
   "execution_count": 12,
   "metadata": {},
   "outputs": [],
   "source": [
    "processed_urls = df.url.apply(process_url)"
   ]
  },
  {
   "cell_type": "code",
   "execution_count": 13,
   "metadata": {},
   "outputs": [
    {
     "data": {
      "text/plain": [
       "0        [2019, 01, 28, 121909421, meghan mccain admits...\n",
       "1        [2019, 01, 25, 230955951, antigovernment prote...\n",
       "2        [2019, 01, 31, 151316903, 75th anniversary pea...\n",
       "3        [2019, 01, 07, 210440329, video/deadly shootin...\n",
       "4        [2019, 01, 04, 202600722, no sleeves no bible no]\n",
       "                               ...                        \n",
       "18535    [2018, 12, 11, 170925800, trumps losing lonely...\n",
       "18536    [2018, 12, 11, 181505324, heated clash pelosi ...\n",
       "18537    [2018, 12, 11, 215339449, see trump not replac...\n",
       "18538    [2018, 12, 11, 213144687, wisconsin gops power...\n",
       "18539    [2018, 12, 11, 151316903, 75th anniversary pea...\n",
       "Name: url, Length: 18509, dtype: object"
      ]
     },
     "execution_count": 13,
     "metadata": {},
     "output_type": "execute_result"
    }
   ],
   "source": [
    "processed_urls"
   ]
  },
  {
   "cell_type": "code",
   "execution_count": 14,
   "metadata": {},
   "outputs": [],
   "source": [
    "df = pd.concat([df, pd.DataFrame(processed_urls.values.tolist(), \n",
    "                                 columns=['url_year', 'url_month', 'url_day', 'url_id', 'url_title'], \n",
    "                                 index=processed_urls.index)], axis=1)"
   ]
  },
  {
   "cell_type": "code",
   "execution_count": 15,
   "metadata": {},
   "outputs": [
    {
     "data": {
      "image/png": "[encoded data removed]",
      "text/plain": [
       "<Figure size 432x288 with 1 Axes>"
      ]
     },
     "metadata": {
      "needs_background": "light"
     },
     "output_type": "display_data"
    }
   ],
   "source": [
    "plt.hist(df.url_id.value_counts(), color=\"seagreen\", alpha=0.65)\n",
    "plt.yscale('log')\n",
    "plt.title('Distribution of duplicate articles');"
   ]
  },
  {
   "cell_type": "code",
   "execution_count": 16,
   "metadata": {},
   "outputs": [
    {
     "name": "stdout",
     "output_type": "stream",
     "text": [
      "201900455     80\n",
      "politics      68\n",
      "topstories    55\n",
      "230955951     40\n",
      "151316903     40\n",
      "              ..\n",
      "183843445      1\n",
      "172810153      1\n",
      "165951309      1\n",
      "153244835      1\n",
      "200929791      1\n",
      "Name: url_id, Length: 10405, dtype: int64\n"
     ]
    }
   ],
   "source": [
    "repeats=df.url_id.value_counts()\n",
    "print(repeats)"
   ]
  },
  {
   "cell_type": "code",
   "execution_count": 17,
   "metadata": {},
   "outputs": [
    {
     "name": "stdout",
     "output_type": "stream",
     "text": [
      "There are 29 improperly extracted url ids\n"
     ]
    }
   ],
   "source": [
    "def isnt_int(n):\n",
    "    try:\n",
    "        int(n)\n",
    "        return 0\n",
    "    except:\n",
    "        return 1\n",
    "\n",
    "print(f\"There are {sum([isnt_int(_) for _ in repeats.index])} improperly extracted url ids\")"
   ]
  },
  {
   "cell_type": "code",
   "execution_count": 18,
   "metadata": {},
   "outputs": [
    {
     "data": {
      "text/plain": [
       "60      5 people dead louisiana shooting suspect large...\n",
       "203     teen commits suicide accidentally shooting kil...\n",
       "1170    minnesota mom charged car seat falls child 214...\n",
       "2046    more 9 000 marijuana convictions dismissed lat...\n",
       "2204    4 old boy accidentally shoots pregnant mom bab...\n",
       "Name: url_title, dtype: object"
      ]
     },
     "execution_count": 18,
     "metadata": {},
     "output_type": "execute_result"
    }
   ],
   "source": [
    "df.url_title[df.url_id==\"topstories\"].head()"
   ]
  },
  {
   "cell_type": "code",
   "execution_count": 19,
   "metadata": {},
   "outputs": [],
   "source": [
    "correct_extracts = [_ for _ in repeats.index if isnt_int(_)==0]"
   ]
  },
  {
   "cell_type": "code",
   "execution_count": 20,
   "metadata": {},
   "outputs": [
    {
     "data": {
      "image/png": "[encoded data removed]",
      "text/plain": [
       "<Figure size 432x288 with 1 Axes>"
      ]
     },
     "metadata": {
      "needs_background": "light"
     },
     "output_type": "display_data"
    }
   ],
   "source": [
    "plt.hist([len(_) for _ in correct_extracts])\n",
    "plt.yscale('log');"
   ]
  },
  {
   "cell_type": "code",
   "execution_count": 21,
   "metadata": {},
   "outputs": [
    {
     "data": {
      "text/plain": [
       "['2019']"
      ]
     },
     "execution_count": 21,
     "metadata": {},
     "output_type": "execute_result"
    }
   ],
   "source": [
    "[_ for _ in correct_extracts if len(_)<9]"
   ]
  },
  {
   "cell_type": "code",
   "execution_count": 22,
   "metadata": {},
   "outputs": [],
   "source": [
    "df = df[df.url_id!=\"2019\"]"
   ]
  },
  {
   "cell_type": "code",
   "execution_count": 23,
   "metadata": {},
   "outputs": [],
   "source": [
    "def fix_urls(url):\n",
    "    section = re.search('http[s]://news.yahoo.com/(.*?).html', str(url)).group(1)\n",
    "    try:\n",
    "        url_id = re.search('(\\d{9})', section).group(1)\n",
    "    except:\n",
    "        url_id = \"\"\n",
    "    url_title = \" \".join([_ for _ in section.split(\"-\") if _!=url_id])\n",
    "    return [url_id, url_title]"
   ]
  },
  {
   "cell_type": "code",
   "execution_count": 24,
   "metadata": {},
   "outputs": [
    {
     "name": "stdout",
     "output_type": "stream",
     "text": [
      "There are 0 rows with messed up URLs\n"
     ]
    }
   ],
   "source": [
    "test = df.url.apply(lambda x: test_func(x, fix_urls))\n",
    "print(f\"There are {len(df) - test.sum()} rows with messed up URLs\")"
   ]
  },
  {
   "cell_type": "code",
   "execution_count": 25,
   "metadata": {},
   "outputs": [],
   "source": [
    "df[['url_id', 'url_title']] = df.url.apply(fix_urls).values.tolist()"
   ]
  },
  {
   "cell_type": "code",
   "execution_count": 26,
   "metadata": {},
   "outputs": [
    {
     "name": "stdout",
     "output_type": "stream",
     "text": [
      "201900455    80\n",
      "051052692    40\n",
      "151316903    40\n",
      "230955951    40\n",
      "010052703    40\n",
      "             ..\n",
      "174418112     1\n",
      "150651721     1\n",
      "135322663     1\n",
      "042117261     1\n",
      "000321114     1\n",
      "Name: url_id, Length: 10522, dtype: int64\n"
     ]
    }
   ],
   "source": [
    "repeats = df.url_id.value_counts()\n",
    "print(repeats)"
   ]
  },
  {
   "cell_type": "code",
   "execution_count": 27,
   "metadata": {},
   "outputs": [
    {
     "data": {
      "image/png": "[encoded data removed]",
      "text/plain": [
       "<Figure size 432x288 with 1 Axes>"
      ]
     },
     "metadata": {
      "needs_background": "light"
     },
     "output_type": "display_data"
    }
   ],
   "source": [
    "plt.hist(df.url_id.value_counts(), color=\"seagreen\", alpha=0.65)\n",
    "plt.yscale('log')\n",
    "plt.title('Distribution of duplicate articles');"
   ]
  },
  {
   "cell_type": "code",
   "execution_count": 28,
   "metadata": {},
   "outputs": [
    {
     "name": "stdout",
     "output_type": "stream",
     "text": [
      "There are/is 1 improperly extracted url id(s)\n"
     ]
    }
   ],
   "source": [
    "print(f\"There are/is {sum([isnt_int(_) for _ in repeats.index])} improperly extracted url id(s)\")"
   ]
  },
  {
   "cell_type": "code",
   "execution_count": 29,
   "metadata": {},
   "outputs": [],
   "source": [
    "# This 1 improper url_id actually represents 32 rows of data but I'm just going to drop them all\n",
    "\n",
    "df = df[df.url_id!=\"\"]"
   ]
  },
  {
   "cell_type": "code",
   "execution_count": 30,
   "metadata": {},
   "outputs": [],
   "source": [
    "df = df.drop_duplicates(subset=\"url_id\", keep='first')"
   ]
  },
  {
   "cell_type": "code",
   "execution_count": 31,
   "metadata": {},
   "outputs": [],
   "source": [
    "def split_dt(d):\n",
    "    try:\n",
    "        d = d.split(\" \")[0].split(\"/\")\n",
    "        return [d[2], d[0], d[1]]\n",
    "    except:\n",
    "        return [\"\", \"\", \"\"]\n",
    "\n",
    "new_dt = df['datetime'].apply(split_dt)"
   ]
  },
  {
   "cell_type": "code",
   "execution_count": 32,
   "metadata": {},
   "outputs": [],
   "source": [
    "test = df['datetime'].apply(lambda x: test_func(x, split_dt))"
   ]
  },
  {
   "cell_type": "code",
   "execution_count": 33,
   "metadata": {},
   "outputs": [],
   "source": [
    "df = pd.concat([df, pd.DataFrame(new_dt.values.tolist(), columns=['article_year', 'article_month', 'article_day'], \n",
    "                                 index=new_dt.index)], axis=1)"
   ]
  },
  {
   "cell_type": "code",
   "execution_count": 38,
   "metadata": {},
   "outputs": [
    {
     "name": "stdout",
     "output_type": "stream",
     "text": [
      "There are 429 rows with missing titles and 428 rows with missing articles\n",
      "There are 428 rows missing both titles and articles\n"
     ]
    },
    {
     "name": "stderr",
     "output_type": "stream",
     "text": [
      "C:\\Users\\steph\\Anaconda3\\lib\\site-packages\\ipykernel_launcher.py:3: UserWarning: Boolean Series key will be reindexed to match DataFrame index.\n",
      "  This is separate from the ipykernel package so we can avoid doing imports until\n"
     ]
    }
   ],
   "source": [
    "m_titles = len(df[df.title==\"\"])\n",
    "m_articles = len(df[df.text==\"\"])\n",
    "m_both = len(df[df.title==''][df.text==''])\n",
    "print(f\"There are {m_titles} rows with missing titles and {m_articles} rows with missing articles\")\n",
    "print(f\"There are {m_both} rows missing both titles and articles\")"
   ]
  },
  {
   "cell_type": "code",
   "execution_count": 42,
   "metadata": {},
   "outputs": [],
   "source": [
    "df = df[df.title!=''][df.text!='']\n",
    "df = df.drop(['url_id'], axis=1)"
   ]
  },
  {
   "cell_type": "code",
   "execution_count": 43,
   "metadata": {},
   "outputs": [
    {
     "name": "stdout",
     "output_type": "stream",
     "text": [
      "The cleaned data has 10092 rows of data\n"
     ]
    }
   ],
   "source": [
    "print(f\"The cleaned data has {len(df)} rows of data\")"
   ]
  },
  {
   "cell_type": "code",
   "execution_count": 44,
   "metadata": {},
   "outputs": [],
   "source": [
    "df.to_csv(\"C:/Data/Bernie/CleanedNews.csv\", index=False)"
   ]
  }
 ],
 "metadata": {
  "kernelspec": {
   "display_name": "Python 3",
   "language": "python",
   "name": "python3"
  },
  "language_info": {
   "codemirror_mode": {
    "name": "ipython",
    "version": 3
   },
   "file_extension": ".py",
   "mimetype": "text/x-python",
   "name": "python",
   "nbconvert_exporter": "python",
   "pygments_lexer": "ipython3",
   "version": "3.7.3"
  }
 },
 "nbformat": 4,
 "nbformat_minor": 2
}
